{
 "cells": [
  {
   "cell_type": "code",
   "execution_count": 1,
   "id": "f1987bf7",
   "metadata": {},
   "outputs": [],
   "source": [
    "# Задача 8. Рассчитайте коэффициент линейной корреляции Пирсона. Найдите коэффициент ранговой корреляции Спирмена."
   ]
  },
  {
   "cell_type": "code",
   "execution_count": 2,
   "id": "44043376",
   "metadata": {},
   "outputs": [],
   "source": [
    "from ipynb.fs.full.ToPMS import coeff_cor_pearson\n",
    "import matplotlib.pyplot as plt\n",
    "from scipy.stats import rankdata\n",
    "import tabulate\n",
    "import numpy as np\n",
    "from IPython.display import display, HTML"
   ]
  },
  {
   "cell_type": "code",
   "execution_count": 3,
   "id": "1dea58e1",
   "metadata": {},
   "outputs": [
    {
     "data": {
      "text/html": [
       "<table>\n",
       "<tbody>\n",
       "<tr><td>X</td><td style=\"text-align: right;\">  477</td><td style=\"text-align: right;\">  493</td><td style=\"text-align: right;\">  507</td><td style=\"text-align: right;\">  444</td><td style=\"text-align: right;\">  428</td><td style=\"text-align: right;\">  463</td><td style=\"text-align: right;\">  459</td><td style=\"text-align: right;\">  523</td><td style=\"text-align: right;\">  587</td><td style=\"text-align: right;\">  527</td><td style=\"text-align: right;\">  574</td><td style=\"text-align: right;\">  563</td><td style=\"text-align: right;\">  566</td><td style=\"text-align: right;\">  549</td></tr>\n",
       "<tr><td>Y</td><td style=\"text-align: right;\">17677</td><td style=\"text-align: right;\">10195</td><td style=\"text-align: right;\">11055</td><td style=\"text-align: right;\">18158</td><td style=\"text-align: right;\">12423</td><td style=\"text-align: right;\">10885</td><td style=\"text-align: right;\">19422</td><td style=\"text-align: right;\">13385</td><td style=\"text-align: right;\">16358</td><td style=\"text-align: right;\">13398</td><td style=\"text-align: right;\">12700</td><td style=\"text-align: right;\">20279</td><td style=\"text-align: right;\">11961</td><td style=\"text-align: right;\">12905</td></tr>\n",
       "</tbody>\n",
       "</table>"
      ],
      "text/plain": [
       "<IPython.core.display.HTML object>"
      ]
     },
     "metadata": {},
     "output_type": "display_data"
    }
   ],
   "source": [
    "table = [[\"X\", 477, 493, 507, 444, 428, 463, 459, 523, 587, 527, 574, 563, 566, 549],\n",
    "         [\"Y\", 17677, 10195, 11055, 18158, 12423, 10885, 19422, 13385, 16358, 13398, 12700, 20279, 11961, 12905]]\n",
    "display(HTML(tabulate.tabulate(table, tablefmt = 'html')))"
   ]
  },
  {
   "cell_type": "code",
   "execution_count": 4,
   "id": "44c43bc0",
   "metadata": {},
   "outputs": [],
   "source": [
    "x_values = table[0][1:len(table[0])]\n",
    "y_values = table[1][1:len(table[1])]"
   ]
  },
  {
   "cell_type": "code",
   "execution_count": 5,
   "id": "b8fac1e8",
   "metadata": {},
   "outputs": [
    {
     "data": {
      "text/plain": [
       "-0.03251373054727429"
      ]
     },
     "execution_count": 5,
     "metadata": {},
     "output_type": "execute_result"
    }
   ],
   "source": [
    "coeff_cor_pearson(x_values, y_values)"
   ]
  },
  {
   "cell_type": "code",
   "execution_count": 6,
   "id": "0b5449a2",
   "metadata": {},
   "outputs": [
    {
     "data": {
      "text/plain": [
       "[<matplotlib.lines.Line2D at 0x7fe3144b57c0>]"
      ]
     },
     "execution_count": 6,
     "metadata": {},
     "output_type": "execute_result"
    },
    {
     "data": {
      "image/png": "[encoded data removed]",
      "text/plain": [
       "<Figure size 432x288 with 1 Axes>"
      ]
     },
     "metadata": {
      "needs_background": "light"
     },
     "output_type": "display_data"
    }
   ],
   "source": [
    "plt.plot(x_values, y_values, '.')   # scatter diagram"
   ]
  },
  {
   "cell_type": "code",
   "execution_count": 7,
   "id": "6914ae98",
   "metadata": {},
   "outputs": [],
   "source": [
    "def coeff_cor_spearman(x:list, y:list):\n",
    "# x, y - ranks for finding linear correlation\n",
    "    n = len(x)\n",
    "    presum_coeff = 1/(n*(n**2 - 1))\n",
    "    total_list = [(x[i] - y[i])**2 for i in range(len(x))]\n",
    "    spearman_coeff = 1 - presum_coeff * 6 * sum(total_list)\n",
    "    return(spearman_coeff)"
   ]
  },
  {
   "cell_type": "code",
   "execution_count": 8,
   "id": "a54942c4",
   "metadata": {},
   "outputs": [],
   "source": [
    "#array = np.array([4,2,7,1])\n",
    "#temp = array.argsort()\n",
    "#ranks = np.empty_like(temp)             find out how does this work!!!\n",
    "#ranks[temp] = np.arange(len(array))\n",
    "#ranks"
   ]
  },
  {
   "cell_type": "code",
   "execution_count": 9,
   "id": "c24b1bfa",
   "metadata": {},
   "outputs": [],
   "source": [
    "x_rank = rankdata(x_values)\n",
    "y_rank = rankdata(y_values)\n"
   ]
  },
  {
   "cell_type": "code",
   "execution_count": 10,
   "id": "8ce70e52",
   "metadata": {},
   "outputs": [
    {
     "data": {
      "text/plain": [
       "0.0241758241758242"
      ]
     },
     "execution_count": 10,
     "metadata": {},
     "output_type": "execute_result"
    }
   ],
   "source": [
    "coeff_cor_spearman(x_rank, y_rank)"
   ]
  }
 ],
 "metadata": {
  "kernelspec": {
   "display_name": "Python 3",
   "language": "python",
   "name": "python3"
  },
  "language_info": {
   "codemirror_mode": {
    "name": "ipython",
    "version": 3
   },
   "file_extension": ".py",
   "mimetype": "text/x-python",
   "name": "python",
   "nbconvert_exporter": "python",
   "pygments_lexer": "ipython3",
   "version": "3.8.8"
  }
 },
 "nbformat": 4,
 "nbformat_minor": 5
}
