{
 "cells": [
  {
   "cell_type": "code",
   "execution_count": 1,
   "id": "e20b6e76",
   "metadata": {},
   "outputs": [],
   "source": [
    "# Для выборки найдите среднее арифметическое и стандартное отклонение. Вычислите коэффициент вариации."
   ]
  },
  {
   "cell_type": "code",
   "execution_count": 13,
   "id": "0647b150",
   "metadata": {},
   "outputs": [],
   "source": [
    "from IPython.display import display,HTML\n",
    "from ipynb.fs.full.ToPMS import arith_mean, standard_deviation, variation_coeff\n",
    "import math\n",
    "import tabulate"
   ]
  },
  {
   "cell_type": "code",
   "execution_count": 14,
   "id": "6ecb5262",
   "metadata": {},
   "outputs": [
    {
     "data": {
      "text/html": [
       "<table>\n",
       "<tbody>\n",
       "<tr><td>Частота посещений      </td><td style=\"text-align: right;\">0</td><td style=\"text-align: right;\"> 2</td><td style=\"text-align: right;\">5</td><td style=\"text-align: right;\">8</td><td style=\"text-align: right;\">11</td><td style=\"text-align: right;\">14</td><td>Всего</td></tr>\n",
       "<tr><td>Количество респондентов</td><td style=\"text-align: right;\">6</td><td style=\"text-align: right;\">11</td><td style=\"text-align: right;\">8</td><td style=\"text-align: right;\">8</td><td style=\"text-align: right;\"> 4</td><td style=\"text-align: right;\"> 3</td><td>40   </td></tr>\n",
       "</tbody>\n",
       "</table>"
      ],
      "text/plain": [
       "<IPython.core.display.HTML object>"
      ]
     },
     "metadata": {},
     "output_type": "display_data"
    }
   ],
   "source": [
    "table = [[\"Частота посещений\", 0, 2, 5, 8, 11, 14, \"Всего\"],\n",
    "         [\"Количество респондентов\", 6, 11, 8, 8, 4, 3, 40]]\n",
    "display(HTML(tabulate.tabulate(table, tablefmt='html')))"
   ]
  },
  {
   "cell_type": "code",
   "execution_count": 15,
   "id": "c90f9978",
   "metadata": {},
   "outputs": [],
   "source": [
    "feature = table[0][1:-1]\n",
    "feature_values = table[1][1:-1]"
   ]
  },
  {
   "cell_type": "code",
   "execution_count": 16,
   "id": "5a852d5c",
   "metadata": {},
   "outputs": [
    {
     "data": {
      "text/plain": [
       "5.3"
      ]
     },
     "execution_count": 16,
     "metadata": {},
     "output_type": "execute_result"
    }
   ],
   "source": [
    "arith_mean(feature, feature_values)"
   ]
  },
  {
   "cell_type": "code",
   "execution_count": 17,
   "id": "ae802946",
   "metadata": {},
   "outputs": [
    {
     "data": {
      "text/plain": [
       "2.5119713374"
      ]
     },
     "execution_count": 17,
     "metadata": {},
     "output_type": "execute_result"
    }
   ],
   "source": [
    "standard_deviation(feature, feature_values)"
   ]
  },
  {
   "cell_type": "code",
   "execution_count": 18,
   "id": "507f9864",
   "metadata": {},
   "outputs": [
    {
     "data": {
      "text/plain": [
       "47.4"
      ]
     },
     "execution_count": 18,
     "metadata": {},
     "output_type": "execute_result"
    }
   ],
   "source": [
    "variation_coeff(feature, feature_values)"
   ]
  }
 ],
 "metadata": {
  "kernelspec": {
   "display_name": "Python 3",
   "language": "python",
   "name": "python3"
  },
  "language_info": {
   "codemirror_mode": {
    "name": "ipython",
    "version": 3
   },
   "file_extension": ".py",
   "mimetype": "text/x-python",
   "name": "python",
   "nbconvert_exporter": "python",
   "pygments_lexer": "ipython3",
   "version": "3.8.8"
  }
 },
 "nbformat": 4,
 "nbformat_minor": 5
}
