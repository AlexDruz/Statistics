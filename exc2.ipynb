{
 "cells": [
  {
   "cell_type": "code",
   "execution_count": 1,
   "id": "5d60f730",
   "metadata": {},
   "outputs": [
    {
     "data": {
      "text/html": [
       "<table>\n",
       "<tbody>\n",
       "<tr><td>Факультет     </td><td style=\"text-align: right;\">1   </td><td style=\"text-align: right;\">2   </td><td style=\"text-align: right;\">3   </td><td style=\"text-align: right;\">4   </td><td style=\"text-align: right;\">5  </td><td style=\"text-align: right;\">6   </td><td style=\"text-align: right;\">7   </td></tr>\n",
       "<tr><td>Доля студентов</td><td style=\"text-align: right;\">0.12</td><td style=\"text-align: right;\">0.06</td><td style=\"text-align: right;\">0.17</td><td style=\"text-align: right;\">0.09</td><td style=\"text-align: right;\">0.1</td><td style=\"text-align: right;\">0.08</td><td style=\"text-align: right;\">0.08</td></tr>\n",
       "</tbody>\n",
       "</table>"
      ],
      "text/plain": [
       "<IPython.core.display.HTML object>"
      ]
     },
     "metadata": {},
     "output_type": "display_data"
    }
   ],
   "source": [
    "# Задача 2. Определите, чему равна, в среднем, на каждом факультете доля студентов, приезжающих на своём\n",
    "# автомобиле. Рассчитайте выборочное стандартное отклонение и выборочный коэффициент вариации\n",
    "from IPython.display import display, HTML\n",
    "import tabulate\n",
    "import math\n",
    "table = [[\"Факультет\",1,2,3,4,5,6,7],\n",
    "         [\"Доля студентов\",0.12,0.06,0.17,0.09,0.10,0.08,0.08]]\n",
    "display(HTML(tabulate.tabulate(table, tablefmt='html')))"
   ]
  },
  {
   "cell_type": "code",
   "execution_count": 2,
   "id": "91e66453",
   "metadata": {},
   "outputs": [],
   "source": [
    "values = table[1][1:len(table[1])]"
   ]
  },
  {
   "cell_type": "code",
   "execution_count": 17,
   "id": "49b69b99",
   "metadata": {},
   "outputs": [],
   "source": [
    "from ipynb.fs.full.ToPMS import standard_deviation, variation_coeff\n",
    "a = [1] * len(values)"
   ]
  },
  {
   "cell_type": "code",
   "execution_count": 18,
   "id": "2c840a86",
   "metadata": {},
   "outputs": [
    {
     "data": {
      "text/plain": [
       "0.0333809182"
      ]
     },
     "execution_count": 18,
     "metadata": {},
     "output_type": "execute_result"
    }
   ],
   "source": [
    "standard_deviation(a, values)"
   ]
  },
  {
   "cell_type": "code",
   "execution_count": 19,
   "id": "aeed764f",
   "metadata": {},
   "outputs": [
    {
     "data": {
      "text/plain": [
       "33.38"
      ]
     },
     "execution_count": 19,
     "metadata": {},
     "output_type": "execute_result"
    }
   ],
   "source": [
    "variation_coeff(a, values)"
   ]
  }
 ],
 "metadata": {
  "kernelspec": {
   "display_name": "Python 3",
   "language": "python",
   "name": "python3"
  },
  "language_info": {
   "codemirror_mode": {
    "name": "ipython",
    "version": 3
   },
   "file_extension": ".py",
   "mimetype": "text/x-python",
   "name": "python",
   "nbconvert_exporter": "python",
   "pygments_lexer": "ipython3",
   "version": "3.8.8"
  }
 },
 "nbformat": 4,
 "nbformat_minor": 5
}
