{
 "cells": [
  {
   "cell_type": "code",
   "execution_count": 1,
   "id": "94de35b1",
   "metadata": {},
   "outputs": [
    {
     "data": {
      "text/html": [
       "<table>\n",
       "<tbody>\n",
       "<tr><td>Штат США       </td><td>Явка избирателей</td></tr>\n",
       "<tr><td>Арканзас       </td><td>47.5            </td></tr>\n",
       "<tr><td>Делавэр        </td><td>58.0            </td></tr>\n",
       "<tr><td>Флорида        </td><td>55.2            </td></tr>\n",
       "<tr><td>Джорджия       </td><td>52.2            </td></tr>\n",
       "<tr><td>Гавайи         </td><td>40.0            </td></tr>\n",
       "<tr><td>Айдахо         </td><td>55.5            </td></tr>\n",
       "<tr><td>Айова          </td><td>67.1            </td></tr>\n",
       "<tr><td>Луизиана       </td><td>57.1            </td></tr>\n",
       "<tr><td>Нью-Гемпшир    </td><td>67.8            </td></tr>\n",
       "<tr><td>Северная Дакота</td><td>59.4            </td></tr>\n",
       "<tr><td>Южная Каролина </td><td>53.8            </td></tr>\n",
       "<tr><td>Южная Дакота   </td><td>57.7            </td></tr>\n",
       "<tr><td>Вермонт        </td><td>59.3            </td></tr>\n",
       "<tr><td>Вайоминг       </td><td>56.8            </td></tr>\n",
       "</tbody>\n",
       "</table>"
      ],
      "text/plain": [
       "<IPython.core.display.HTML object>"
      ]
     },
     "metadata": {},
     "output_type": "display_data"
    }
   ],
   "source": [
    "# Задача 3. Найдите медиану выборки, выборочные квартили, квартильный размах. Определите по методу Дж.Тьюки, \n",
    "# есть ли в этой выборке нетипичные значения наблюдений - \"подозрительные\" и/или \"выбросы\". Постройте \n",
    "# коробчатую диаграмму \"Ящик с усами\"\n",
    "from IPython.display import HTML, display\n",
    "import tabulate\n",
    "import seaborn as sns\n",
    "import matplotlib as plt\n",
    "import pandas as pd\n",
    "table = [[\"Штат США\",\"Явка избирателей\"],\n",
    "         [\"Арканзас\", 47.5],\n",
    "         [\"Делавэр\", 58.0],\n",
    "         [\"Флорида\", 55.2],\n",
    "         [\"Джорджия\", 52.2],\n",
    "         [\"Гавайи\", 40.0],\n",
    "         [\"Айдахо\",55.5],\n",
    "         [\"Айова\", 67.1],\n",
    "         [\"Луизиана\", 57.1],\n",
    "         [\"Нью-Гемпшир\", 67.8],\n",
    "         [\"Северная Дакота\", 59.4],\n",
    "         [\"Южная Каролина\", 53.8],\n",
    "         [\"Южная Дакота\",57.7],\n",
    "         [\"Вермонт\",59.3],\n",
    "         [\"Вайоминг\", 56.8]]\n",
    "display(HTML(tabulate.tabulate(table, tablefmt='html')))"
   ]
  },
  {
   "cell_type": "code",
   "execution_count": 2,
   "id": "981d6ebe",
   "metadata": {},
   "outputs": [],
   "source": [
    "data = dict(table[1:-1]) # making dictionary without headers"
   ]
  },
  {
   "cell_type": "code",
   "execution_count": 3,
   "id": "a1194e3b",
   "metadata": {},
   "outputs": [
    {
     "data": {
      "text/plain": [
       "{'Арканзас': 47.5,\n",
       " 'Делавэр': 58.0,\n",
       " 'Флорида': 55.2,\n",
       " 'Джорджия': 52.2,\n",
       " 'Гавайи': 40.0,\n",
       " 'Айдахо': 55.5,\n",
       " 'Айова': 67.1,\n",
       " 'Луизиана': 57.1,\n",
       " 'Нью-Гемпшир': 67.8,\n",
       " 'Северная Дакота': 59.4,\n",
       " 'Южная Каролина': 53.8,\n",
       " 'Южная Дакота': 57.7,\n",
       " 'Вермонт': 59.3}"
      ]
     },
     "execution_count": 3,
     "metadata": {},
     "output_type": "execute_result"
    }
   ],
   "source": [
    "data # checking whether it's correct"
   ]
  },
  {
   "cell_type": "code",
   "execution_count": 4,
   "id": "40786333",
   "metadata": {},
   "outputs": [],
   "source": [
    "value = [] # taking out values from our dictionary\n",
    "for i in data:\n",
    "    value.append(data[i])"
   ]
  },
  {
   "cell_type": "code",
   "execution_count": 5,
   "id": "c219a15c",
   "metadata": {},
   "outputs": [
    {
     "data": {
      "text/plain": [
       "[40.0, 47.5, 52.2, 53.8, 55.2, 55.5, 57.1, 57.7, 58.0, 59.3, 59.4, 67.1, 67.8]"
      ]
     },
     "execution_count": 5,
     "metadata": {},
     "output_type": "execute_result"
    }
   ],
   "source": [
    "value.sort()\n",
    "value"
   ]
  },
  {
   "cell_type": "code",
   "execution_count": 6,
   "id": "f3962c26",
   "metadata": {},
   "outputs": [],
   "source": [
    "def median(x:list):\n",
    "    if len(x)//2 == 0:\n",
    "        med = (x[len(x)//2] + x[len(x)//2 + 1])/2\n",
    "    else:\n",
    "        med = x[len(x)//2]\n",
    "    return(med)"
   ]
  },
  {
   "cell_type": "code",
   "execution_count": 7,
   "id": "39eb5df6",
   "metadata": {},
   "outputs": [],
   "source": [
    "q2 = median(value) # our median"
   ]
  },
  {
   "cell_type": "code",
   "execution_count": 8,
   "id": "f083b3bc",
   "metadata": {},
   "outputs": [],
   "source": [
    "first_quart_values = value[0:len(value)//2 + 1]\n",
    "q1 = median(first_quart_values) # 25% values\n",
    "third_quart_values = value[len(value)//2:len(value)]\n",
    "q3 = median(third_quart_values) # 75% values\n",
    "quartile_range = q3 - q1 # quartile range"
   ]
  },
  {
   "cell_type": "code",
   "execution_count": 9,
   "id": "32f3ee9b",
   "metadata": {},
   "outputs": [],
   "source": [
    "def outliers(z:list):\n",
    "# q1 - 25% values, q2 - 75% values, z - our data\n",
    "    q1 = median(z[0:len(z)//2 + 1])\n",
    "    q3 = median(z[len(z)//2:len(z)])\n",
    "    RQ = q3 - q1\n",
    "    for i in z:\n",
    "        if i < q1 - 3 * RQ or i > q3 + 3 * RQ:\n",
    "            return(i)"
   ]
  },
  {
   "cell_type": "code",
   "execution_count": 10,
   "id": "b26f6410",
   "metadata": {},
   "outputs": [],
   "source": [
    "outliers(value)"
   ]
  },
  {
   "cell_type": "code",
   "execution_count": 11,
   "id": "49663f6a",
   "metadata": {},
   "outputs": [],
   "source": [
    "def suspicious(z:list):\n",
    "# q1 - 25% values, q2 - 75% values, z - our data\n",
    "    q1 = median(z[0:len(z)//2 + 1])\n",
    "    q3 = median(z[len(z)//2:len(z)])\n",
    "    RQ = q3 - q1\n",
    "    for i in z:\n",
    "        if i < q1 - 1.5 * RQ or i > q3 + 1.5 * RQ:\n",
    "            return(i)"
   ]
  },
  {
   "cell_type": "code",
   "execution_count": 12,
   "id": "4b4c4549",
   "metadata": {},
   "outputs": [
    {
     "data": {
      "text/plain": [
       "40.0"
      ]
     },
     "execution_count": 12,
     "metadata": {},
     "output_type": "execute_result"
    }
   ],
   "source": [
    "suspicious(value)"
   ]
  },
  {
   "cell_type": "code",
   "execution_count": 13,
   "id": "0de30fd8",
   "metadata": {},
   "outputs": [
    {
     "data": {
      "text/plain": [
       "'Гавайи'"
      ]
     },
     "execution_count": 13,
     "metadata": {},
     "output_type": "execute_result"
    }
   ],
   "source": [
    "(list(data.keys())[list(data.values()).index(suspicious(value))]) # finding out suspicious state"
   ]
  }
 ],
 "metadata": {
  "kernelspec": {
   "display_name": "Python 3",
   "language": "python",
   "name": "python3"
  },
  "language_info": {
   "codemirror_mode": {
    "name": "ipython",
    "version": 3
   },
   "file_extension": ".py",
   "mimetype": "text/x-python",
   "name": "python",
   "nbconvert_exporter": "python",
   "pygments_lexer": "ipython3",
   "version": "3.8.8"
  }
 },
 "nbformat": 4,
 "nbformat_minor": 5
}
