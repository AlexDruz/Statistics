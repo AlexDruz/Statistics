{
 "cells": [
  {
   "cell_type": "code",
   "execution_count": 1,
   "id": "f1077461",
   "metadata": {},
   "outputs": [],
   "source": [
    "# Задача 1. Вычислите выборочное среднее. Охарактеризуйте разброс значений с помощью разных мер вариаций,\n",
    "# таких как выборочное стандартное отклонение, коэффициент вариации. Визуализируйте имеющийся вариационный ряд,\n",
    "# построив полигон распределения и кумулятивную кривую."
   ]
  },
  {
   "cell_type": "code",
   "execution_count": 2,
   "id": "3fca8f54",
   "metadata": {},
   "outputs": [
    {
     "data": {
      "text/html": [
       "<table>\n",
       "<tbody>\n",
       "<tr><td>Х, число детей  </td><td style=\"text-align: right;\">0</td><td style=\"text-align: right;\">1</td><td style=\"text-align: right;\"> 2</td><td style=\"text-align: right;\"> 3</td><td style=\"text-align: right;\">4</td><td style=\"text-align: right;\">5</td><td>Всего</td></tr>\n",
       "<tr><td>Число ответивших</td><td style=\"text-align: right;\">6</td><td style=\"text-align: right;\">8</td><td style=\"text-align: right;\">45</td><td style=\"text-align: right;\">21</td><td style=\"text-align: right;\">5</td><td style=\"text-align: right;\">3</td><td>88   </td></tr>\n",
       "</tbody>\n",
       "</table>"
      ],
      "text/plain": [
       "<IPython.core.display.HTML object>"
      ]
     },
     "metadata": {},
     "output_type": "display_data"
    }
   ],
   "source": [
    "import matplotlib.pyplot as plt\n",
    "import math\n",
    "import seaborn as sns\n",
    "from IPython.display import HTML, display\n",
    "import tabulate\n",
    "table = [[\"Х, число детей\",0,1,2,3,4,5,\"Всего\"],\n",
    "         [\"Число ответивших\",6,8,45,21,5,3,88]]\n",
    "display(HTML(tabulate.tabulate(table, tablefmt='html')))\n",
    "# https://pcnews.ru/blogs/dobavlaem_v_jupyter_notebooks_krasotu_i_interaktivnost-955727.html \n",
    "# visualization tools for small data and pictures\n",
    "sns.set(style=\"darkgrid\")"
   ]
  },
  {
   "cell_type": "code",
   "execution_count": 3,
   "id": "a1309e5b",
   "metadata": {},
   "outputs": [],
   "source": [
    "def var_range(x:list,y:list): \n",
    "# x - feature, y - feature value\n",
    "    if len(x) != len(y):\n",
    "        print(\"Number of columns do not match\") # data verification for our task\n",
    "    else:\n",
    "        var_range = [round(float(i)/sum(y),2) for i in y]\n",
    "        return(var_range)"
   ]
  },
  {
   "cell_type": "code",
   "execution_count": 4,
   "id": "635e88f1",
   "metadata": {},
   "outputs": [],
   "source": [
    "x = table[0][1:-1]\n",
    "y = table[1][1:-1]"
   ]
  },
  {
   "cell_type": "code",
   "execution_count": 5,
   "id": "687be6ba",
   "metadata": {},
   "outputs": [
    {
     "data": {
      "text/plain": [
       "[0.07, 0.09, 0.51, 0.24, 0.06, 0.03]"
      ]
     },
     "execution_count": 5,
     "metadata": {},
     "output_type": "execute_result"
    }
   ],
   "source": [
    "var_range(x,y)"
   ]
  },
  {
   "cell_type": "code",
   "execution_count": 6,
   "id": "850b7b95",
   "metadata": {},
   "outputs": [],
   "source": [
    "def arith_mean(x:list,y:list):\n",
    "# x - feature, y - feature value\n",
    "    if len(x) != len(y):\n",
    "        print(\"Number of columns do not match\") # data verification for our task\n",
    "    else:\n",
    "        s = [x[i]*y[i] for i in range(len(x))]\n",
    "        average = round(sum(s)/sum(y),2)\n",
    "        return(average)"
   ]
  },
  {
   "cell_type": "code",
   "execution_count": 7,
   "id": "a6b4732f",
   "metadata": {},
   "outputs": [
    {
     "data": {
      "text/plain": [
       "2.23"
      ]
     },
     "execution_count": 7,
     "metadata": {},
     "output_type": "execute_result"
    }
   ],
   "source": [
    "arith_mean(x,y)"
   ]
  },
  {
   "cell_type": "code",
   "execution_count": 8,
   "id": "c1cf2d8c",
   "metadata": {},
   "outputs": [],
   "source": [
    "def dispersion(x:list,y:list):\n",
    "# x - feature, y - feature value\n",
    "    squa = [((x[i] - arith_mean(x,y))**2)*y[i] for i in range(len(x))]\n",
    "    disp = round(sum(squa)/sum(y),2)\n",
    "    return(disp)"
   ]
  },
  {
   "cell_type": "code",
   "execution_count": 9,
   "id": "65b5507c",
   "metadata": {},
   "outputs": [
    {
     "data": {
      "text/plain": [
       "1.08"
      ]
     },
     "execution_count": 9,
     "metadata": {},
     "output_type": "execute_result"
    }
   ],
   "source": [
    "dispersion(x,y)"
   ]
  },
  {
   "cell_type": "code",
   "execution_count": 10,
   "id": "73409fb4",
   "metadata": {},
   "outputs": [],
   "source": [
    "def standard_deviation(p:list,z:list):\n",
    "# p - feature, z - feature value\n",
    "    st_dev = round(math.sqrt(dispersion(x,y)),2)\n",
    "    return(st_dev)"
   ]
  },
  {
   "cell_type": "code",
   "execution_count": 11,
   "id": "904b4181",
   "metadata": {},
   "outputs": [
    {
     "data": {
      "text/plain": [
       "1.04"
      ]
     },
     "execution_count": 11,
     "metadata": {},
     "output_type": "execute_result"
    }
   ],
   "source": [
    "standard_deviation(x,y)"
   ]
  },
  {
   "cell_type": "code",
   "execution_count": 12,
   "id": "445b563b",
   "metadata": {},
   "outputs": [],
   "source": [
    "def variation_coeff(x:list,y:list):\n",
    "# x - feature, y - feature value\n",
    "    var_coeff = round(standard_deviation(x,y)/arith_mean(x,y)*100,2)\n",
    "    return(var_coeff)"
   ]
  },
  {
   "cell_type": "code",
   "execution_count": 13,
   "id": "aa0899a3",
   "metadata": {},
   "outputs": [
    {
     "data": {
      "text/plain": [
       "46.64"
      ]
     },
     "execution_count": 13,
     "metadata": {},
     "output_type": "execute_result"
    }
   ],
   "source": [
    "variation_coeff(x,y)"
   ]
  },
  {
   "cell_type": "code",
   "execution_count": 14,
   "id": "59dfe0e6",
   "metadata": {},
   "outputs": [
    {
     "data": {
      "text/plain": [
       "<function matplotlib.pyplot.show(close=None, block=None)>"
      ]
     },
     "execution_count": 14,
     "metadata": {},
     "output_type": "execute_result"
    },
    {
     "data": {
      "image/png": "[encoded data removed]",
      "text/plain": [
       "<Figure size 432x288 with 1 Axes>"
      ]
     },
     "metadata": {},
     "output_type": "display_data"
    }
   ],
   "source": [
    "width = 0.7\n",
    "plt.bar(x, y, width)\n",
    "plt.title('Гистограмма')\n",
    "plt.xlabel('Число детей')\n",
    "plt.ylabel('Число ответивших')\n",
    "plt.show"
   ]
  },
  {
   "cell_type": "code",
   "execution_count": 15,
   "id": "c6a6014f",
   "metadata": {},
   "outputs": [],
   "source": [
    "value = table[1][1:-1]"
   ]
  },
  {
   "cell_type": "code",
   "execution_count": 16,
   "id": "8e2ab107",
   "metadata": {},
   "outputs": [
    {
     "data": {
      "text/plain": [
       "<function matplotlib.pyplot.show(close=None, block=None)>"
      ]
     },
     "execution_count": 16,
     "metadata": {},
     "output_type": "execute_result"
    },
    {
     "data": {
      "image/png": "[encoded data removed]",
      "text/plain": [
       "<Figure size 432x288 with 1 Axes>"
      ]
     },
     "metadata": {},
     "output_type": "display_data"
    }
   ],
   "source": [
    "a = []\n",
    "number = 0\n",
    "for i in range(len(value)):\n",
    "    number = value[i] + number\n",
    "    a.append(number)\n",
    "width = 0.7\n",
    "plt.bar(x, a, width)\n",
    "plt.title('Кумулята распределения')\n",
    "plt.xlabel('Число детей')\n",
    "plt.ylabel('Число ответивших')\n",
    "plt.show"
   ]
  }
 ],
 "metadata": {
  "kernelspec": {
   "display_name": "Python 3",
   "language": "python",
   "name": "python3"
  },
  "language_info": {
   "codemirror_mode": {
    "name": "ipython",
    "version": 3
   },
   "file_extension": ".py",
   "mimetype": "text/x-python",
   "name": "python",
   "nbconvert_exporter": "python",
   "pygments_lexer": "ipython3",
   "version": "3.8.8"
  }
 },
 "nbformat": 4,
 "nbformat_minor": 5
}
