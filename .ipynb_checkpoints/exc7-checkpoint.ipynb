{
 "cells": [
  {
   "cell_type": "code",
   "execution_count": 1,
   "id": "5d6d23be",
   "metadata": {},
   "outputs": [],
   "source": [
    "# Задача 7. Вычислите коэффициент корреляции Пирсона между двумя признаками X и Y"
   ]
  },
  {
   "cell_type": "code",
   "execution_count": 2,
   "id": "c319c9db",
   "metadata": {},
   "outputs": [],
   "source": [
    "from IPython.display import display, HTML\n",
    "import tabulate\n",
    "import matplotlib.pyplot as plt\n",
    "import seaborn as sns\n",
    "sns.set_theme(style = 'whitegrid')"
   ]
  },
  {
   "cell_type": "code",
   "execution_count": 3,
   "id": "0ec3c89b",
   "metadata": {},
   "outputs": [
    {
     "data": {
      "text/html": [
       "<table>\n",
       "<tbody>\n",
       "<tr><td>X</td><td style=\"text-align: right;\">2</td><td style=\"text-align: right;\">6</td><td style=\"text-align: right;\">7</td><td style=\"text-align: right;\">5</td><td style=\"text-align: right;\">9</td><td style=\"text-align: right;\">7</td></tr>\n",
       "<tr><td>Y</td><td style=\"text-align: right;\">9</td><td style=\"text-align: right;\">3</td><td style=\"text-align: right;\">1</td><td style=\"text-align: right;\">5</td><td style=\"text-align: right;\">0</td><td style=\"text-align: right;\">0</td></tr>\n",
       "</tbody>\n",
       "</table>"
      ],
      "text/plain": [
       "<IPython.core.display.HTML object>"
      ]
     },
     "metadata": {},
     "output_type": "display_data"
    }
   ],
   "source": [
    "table = [[\"X\",2, 6, 7, 5, 9, 7],[\"Y\", 9, 3, 1, 5, 0, 0,]]\n",
    "display(HTML(tabulate.tabulate(table, tablefmt = 'html')))"
   ]
  },
  {
   "cell_type": "code",
   "execution_count": 4,
   "id": "f35608d0",
   "metadata": {},
   "outputs": [],
   "source": [
    "x_feature = table[0][1:len(table[0])]\n",
    "y_feature = table[1][1:len(table[1])]"
   ]
  },
  {
   "cell_type": "code",
   "execution_count": 5,
   "id": "8341497b",
   "metadata": {},
   "outputs": [],
   "source": [
    "def coeff_cor_pearson(x:list, y:list):\n",
    "# x, y - arrays for finding linear correlation\n",
    "    numerator = [(x[i] - sum(x)/len(x)) * (y[i] - sum(y)/len(y)) for i in range(len(x))]\n",
    "    x_denominator = [(x[i] - sum(x)/len(x))**2 for i in range(len(x))]\n",
    "    y_denominator = [(y[i] - sum(y)/len(y))**2 for i in range(len(y))]                  \n",
    "    r_pearson = sum(numerator)/(sum(x_denominator) * sum(y_denominator))**0.5\n",
    "    return(r_pearson)"
   ]
  },
  {
   "cell_type": "code",
   "execution_count": 6,
   "id": "55644f94",
   "metadata": {},
   "outputs": [
    {
     "data": {
      "text/plain": [
       "-0.9600307214746386"
      ]
     },
     "execution_count": 6,
     "metadata": {},
     "output_type": "execute_result"
    }
   ],
   "source": [
    "coeff_cor_pearson(x_feature, y_feature)"
   ]
  },
  {
   "cell_type": "code",
   "execution_count": 7,
   "id": "f30879f4",
   "metadata": {},
   "outputs": [
    {
     "data": {
      "text/plain": [
       "[<matplotlib.lines.Line2D at 0x7f36569724f0>]"
      ]
     },
     "execution_count": 7,
     "metadata": {},
     "output_type": "execute_result"
    },
    {
     "data": {
      "image/png": "[encoded data removed]",
      "text/plain": [
       "<Figure size 432x288 with 1 Axes>"
      ]
     },
     "metadata": {},
     "output_type": "display_data"
    }
   ],
   "source": [
    "plt.plot(x_feature, y_feature, '.')"
   ]
  }
 ],
 "metadata": {
  "kernelspec": {
   "display_name": "Python 3",
   "language": "python",
   "name": "python3"
  },
  "language_info": {
   "codemirror_mode": {
    "name": "ipython",
    "version": 3
   },
   "file_extension": ".py",
   "mimetype": "text/x-python",
   "name": "python",
   "nbconvert_exporter": "python",
   "pygments_lexer": "ipython3",
   "version": "3.8.8"
  }
 },
 "nbformat": 4,
 "nbformat_minor": 5
}
