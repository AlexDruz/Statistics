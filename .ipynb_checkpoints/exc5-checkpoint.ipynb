{
 "cells": [
  {
   "cell_type": "code",
   "execution_count": 1,
   "id": "8af118ca",
   "metadata": {},
   "outputs": [],
   "source": [
    "# Задача 5. Вычислите моду, медиану, среднее арифметическое, нижнюю и верхнюю квартили, размах вариации, дисперсию,\n",
    "# стандартное отклонение, квартильный размах. Визуализируйте имеющуюся информацию, построив полигон распределения и\n",
    "# кумулятивную кривую"
   ]
  },
  {
   "cell_type": "code",
   "execution_count": 23,
   "id": "892631d4",
   "metadata": {},
   "outputs": [],
   "source": [
    "import math\n",
    "import matplotlib.pyplot as plt\n",
    "from ipynb.fs.full.ToPMS import arith_mean, dispersion, standard_deviation, median, variation_coeff\n",
    "import statistics as st\n",
    "import seaborn as sns\n",
    "sns.set(style=\"darkgrid\")"
   ]
  },
  {
   "cell_type": "code",
   "execution_count": 3,
   "id": "1fe8a0f1",
   "metadata": {},
   "outputs": [],
   "source": [
    "data = [5,4,3,3,5,4,4,4,3,4,4,5,4,4,3,2,5,3,4,4,4,3,2,5,2,5,5,2,3,3]\n",
    "number_of_values = [1] * len(data)"
   ]
  },
  {
   "cell_type": "code",
   "execution_count": 4,
   "id": "75bf2bbe",
   "metadata": {},
   "outputs": [],
   "source": [
    "data.sort()"
   ]
  },
  {
   "cell_type": "code",
   "execution_count": 5,
   "id": "afd29f7a",
   "metadata": {},
   "outputs": [
    {
     "data": {
      "text/plain": [
       "4"
      ]
     },
     "execution_count": 5,
     "metadata": {},
     "output_type": "execute_result"
    }
   ],
   "source": [
    "median(data)"
   ]
  },
  {
   "cell_type": "code",
   "execution_count": 6,
   "id": "0c7e8680",
   "metadata": {},
   "outputs": [
    {
     "data": {
      "text/plain": [
       "3.7"
      ]
     },
     "execution_count": 6,
     "metadata": {},
     "output_type": "execute_result"
    }
   ],
   "source": [
    "arith_mean(number_of_values, data)"
   ]
  },
  {
   "cell_type": "code",
   "execution_count": 7,
   "id": "8c9b9cbd",
   "metadata": {},
   "outputs": [
    {
     "data": {
      "text/plain": [
       "4"
      ]
     },
     "execution_count": 7,
     "metadata": {},
     "output_type": "execute_result"
    }
   ],
   "source": [
    "st.mode(data)"
   ]
  },
  {
   "cell_type": "code",
   "execution_count": 13,
   "id": "85bb9359",
   "metadata": {},
   "outputs": [],
   "source": [
    "first_quart_values = data[0:len(data)//2 + 1]\n",
    "q1 = st.median(first_quart_values)"
   ]
  },
  {
   "cell_type": "code",
   "execution_count": 14,
   "id": "d38ba727",
   "metadata": {},
   "outputs": [],
   "source": [
    "third_quart_values = data[len(data)//2:len(data)]\n",
    "q3 = st.median(third_quart_values)"
   ]
  },
  {
   "cell_type": "code",
   "execution_count": 15,
   "id": "42781e64",
   "metadata": {},
   "outputs": [],
   "source": [
    "rq = q3 - q1"
   ]
  },
  {
   "cell_type": "code",
   "execution_count": 16,
   "id": "6ff4fb4b",
   "metadata": {},
   "outputs": [
    {
     "data": {
      "text/plain": [
       "0.9433333333"
      ]
     },
     "execution_count": 16,
     "metadata": {},
     "output_type": "execute_result"
    }
   ],
   "source": [
    "dispersion(number_of_values,data)"
   ]
  },
  {
   "cell_type": "code",
   "execution_count": 17,
   "id": "1451abfc",
   "metadata": {},
   "outputs": [
    {
     "data": {
      "text/plain": [
       "0.9712534856"
      ]
     },
     "execution_count": 17,
     "metadata": {},
     "output_type": "execute_result"
    }
   ],
   "source": [
    "standard_deviation(number_of_values,data)"
   ]
  },
  {
   "cell_type": "code",
   "execution_count": 28,
   "id": "98647994",
   "metadata": {},
   "outputs": [
    {
     "data": {
      "text/plain": [
       "26.25"
      ]
     },
     "execution_count": 28,
     "metadata": {},
     "output_type": "execute_result"
    }
   ],
   "source": [
    "variation_coeff(number_of_values, data)"
   ]
  },
  {
   "cell_type": "code",
   "execution_count": 35,
   "id": "36b215d5",
   "metadata": {},
   "outputs": [
    {
     "data": {
      "text/plain": [
       "{2: 4, 3: 8, 4: 11, 5: 7}"
      ]
     },
     "execution_count": 35,
     "metadata": {},
     "output_type": "execute_result"
    }
   ],
   "source": [
    "count_dict = {i:data.count(i) for i in data}\n",
    "count_dict"
   ]
  },
  {
   "cell_type": "code",
   "execution_count": 50,
   "id": "76a36624",
   "metadata": {},
   "outputs": [],
   "source": [
    "y = [count_dict[i] for i in count_dict]\n",
    "x = count_dict.keys()"
   ]
  },
  {
   "cell_type": "code",
   "execution_count": 52,
   "id": "4abcafd8",
   "metadata": {},
   "outputs": [
    {
     "data": {
      "text/plain": [
       "<function matplotlib.pyplot.show(close=None, block=None)>"
      ]
     },
     "execution_count": 52,
     "metadata": {},
     "output_type": "execute_result"
    },
    {
     "data": {
      "image/png": "[encoded data removed]",
      "text/plain": [
       "<Figure size 432x288 with 1 Axes>"
      ]
     },
     "metadata": {},
     "output_type": "display_data"
    }
   ],
   "source": [
    "width = 0.7\n",
    "plt.bar(x, y, width)\n",
    "plt.xlabel('Количество конференций')\n",
    "plt.ylabel('Количество человек')\n",
    "plt.title('Гистограмма')\n",
    "plt.show"
   ]
  },
  {
   "cell_type": "code",
   "execution_count": 54,
   "id": "d8e2676b",
   "metadata": {},
   "outputs": [
    {
     "data": {
      "text/plain": [
       "<function matplotlib.pyplot.show(close=None, block=None)>"
      ]
     },
     "execution_count": 54,
     "metadata": {},
     "output_type": "execute_result"
    },
    {
     "data": {
      "image/png": "[encoded data removed]",
      "text/plain": [
       "<Figure size 432x288 with 1 Axes>"
      ]
     },
     "metadata": {},
     "output_type": "display_data"
    }
   ],
   "source": [
    "a = []\n",
    "number = 0\n",
    "for i in range(len(y)):\n",
    "    number = y[i] + number\n",
    "    a.append(number)\n",
    "width = 0.7\n",
    "plt.bar(x, a, width)\n",
    "plt.title('Кумулята распределения')\n",
    "plt.xlabel('Количество конференций')\n",
    "plt.ylabel('Количество человек')\n",
    "plt.show"
   ]
  }
 ],
 "metadata": {
  "kernelspec": {
   "display_name": "Python 3",
   "language": "python",
   "name": "python3"
  },
  "language_info": {
   "codemirror_mode": {
    "name": "ipython",
    "version": 3
   },
   "file_extension": ".py",
   "mimetype": "text/x-python",
   "name": "python",
   "nbconvert_exporter": "python",
   "pygments_lexer": "ipython3",
   "version": "3.8.8"
  }
 },
 "nbformat": 4,
 "nbformat_minor": 5
}
