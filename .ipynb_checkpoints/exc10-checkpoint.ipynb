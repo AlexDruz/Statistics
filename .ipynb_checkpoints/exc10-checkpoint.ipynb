{
 "cells": [
  {
   "cell_type": "code",
   "execution_count": 1,
   "id": "560b38bc",
   "metadata": {},
   "outputs": [],
   "source": [
    "# Задача 10. Рассчитайте коэффициент линейной корреляции Пирсона. Найдите коэффициент ранговой корреляции Спирмена"
   ]
  },
  {
   "cell_type": "code",
   "execution_count": 2,
   "id": "de050455",
   "metadata": {},
   "outputs": [],
   "source": [
    "import tabulate\n",
    "import matplotlib.pyplot as plt\n",
    "from ipynb.fs.full.ToPMS import coeff_cor_pearson, coeff_cor_spearman\n",
    "from IPython.display import display, HTML\n",
    "from scipy.stats import rankdata"
   ]
  },
  {
   "cell_type": "code",
   "execution_count": 3,
   "id": "212de34d",
   "metadata": {},
   "outputs": [
    {
     "data": {
      "text/html": [
       "<table>\n",
       "<tbody>\n",
       "<tr><td style=\"text-align: right;\">20.5</td><td style=\"text-align: right;\">17  </td><td style=\"text-align: right;\">26.9</td><td style=\"text-align: right;\">15.1</td><td style=\"text-align: right;\">12.7</td><td style=\"text-align: right;\">15.9</td><td style=\"text-align: right;\">13.6</td><td style=\"text-align: right;\">15.2</td><td style=\"text-align: right;\">13.2</td><td style=\"text-align: right;\">13.2</td><td style=\"text-align: right;\">13.2</td><td style=\"text-align: right;\">13.1</td></tr>\n",
       "<tr><td style=\"text-align: right;\">72.4</td><td style=\"text-align: right;\">41.6</td><td style=\"text-align: right;\">46.9</td><td style=\"text-align: right;\">32.7</td><td style=\"text-align: right;\">45.3</td><td style=\"text-align: right;\">34.1</td><td style=\"text-align: right;\">23.7</td><td style=\"text-align: right;\">20.5</td><td style=\"text-align: right;\">14.6</td><td style=\"text-align: right;\">22.7</td><td style=\"text-align: right;\">28.5</td><td style=\"text-align: right;\">29.8</td></tr>\n",
       "</tbody>\n",
       "</table>"
      ],
      "text/plain": [
       "<IPython.core.display.HTML object>"
      ]
     },
     "metadata": {},
     "output_type": "display_data"
    }
   ],
   "source": [
    "table = [[20.5, 17.0, 26.9, 15.1, 12.7, 15.9, 13.6, 15.2, 13.2, 13.2, 13.2, 13.1],\n",
    "         [72.4, 41.6, 46.9, 32.7, 45.3, 34.1, 23.7, 20.5, 14.6, 22.7, 28.5, 29.8]]\n",
    "display(HTML(tabulate.tabulate(table, tablefmt = 'html')))"
   ]
  },
  {
   "cell_type": "code",
   "execution_count": 4,
   "id": "6be44e1e",
   "metadata": {},
   "outputs": [],
   "source": [
    "x_values = table[0]\n",
    "y_values = table[1]"
   ]
  },
  {
   "cell_type": "code",
   "execution_count": 5,
   "id": "62108a94",
   "metadata": {},
   "outputs": [
    {
     "data": {
      "text/plain": [
       "[<matplotlib.lines.Line2D at 0x7fb07c83d700>]"
      ]
     },
     "execution_count": 5,
     "metadata": {},
     "output_type": "execute_result"
    },
    {
     "data": {
      "image/png": "[encoded data removed]",
      "text/plain": [
       "<Figure size 432x288 with 1 Axes>"
      ]
     },
     "metadata": {
      "needs_background": "light"
     },
     "output_type": "display_data"
    }
   ],
   "source": [
    "plt.xlabel('Рождаемость на 1000 чел')\n",
    "plt.ylabel('Удельный вес сельского населения, %')\n",
    "plt.plot(x_values, y_values, '.')"
   ]
  },
  {
   "cell_type": "code",
   "execution_count": 6,
   "id": "ebee12be",
   "metadata": {},
   "outputs": [
    {
     "data": {
      "text/plain": [
       "0.6116150608440237"
      ]
     },
     "execution_count": 6,
     "metadata": {},
     "output_type": "execute_result"
    }
   ],
   "source": [
    "coeff_cor_pearson(x_values, y_values)"
   ]
  },
  {
   "cell_type": "code",
   "execution_count": 7,
   "id": "606596c7",
   "metadata": {},
   "outputs": [],
   "source": [
    "x_rank = rankdata(x_values)\n",
    "y_rank = rankdata(y_values)"
   ]
  },
  {
   "cell_type": "code",
   "execution_count": 8,
   "id": "4a1fdbd6",
   "metadata": {},
   "outputs": [
    {
     "data": {
      "text/plain": [
       "0.46853146853146854"
      ]
     },
     "execution_count": 8,
     "metadata": {},
     "output_type": "execute_result"
    }
   ],
   "source": [
    "coeff_cor_spearman(x_rank, y_rank)"
   ]
  },
  {
   "cell_type": "code",
   "execution_count": 9,
   "id": "d0062f17",
   "metadata": {},
   "outputs": [],
   "source": [
    "x_values.remove(26.9)   # deleting the biggest value from data (maybe outlier)\n",
    "y_values.remove(46.9)"
   ]
  },
  {
   "cell_type": "code",
   "execution_count": 10,
   "id": "619b34c3",
   "metadata": {},
   "outputs": [
    {
     "data": {
      "text/plain": [
       "0.7637987833356558"
      ]
     },
     "execution_count": 10,
     "metadata": {},
     "output_type": "execute_result"
    }
   ],
   "source": [
    "coeff_cor_pearson(x_values, y_values)   # bigger Pearson coefficient"
   ]
  },
  {
   "cell_type": "code",
   "execution_count": 11,
   "id": "df5cbf8f",
   "metadata": {},
   "outputs": [],
   "source": [
    "x_rank = rankdata(x_values)\n",
    "y_rank = rankdata(y_values)"
   ]
  },
  {
   "cell_type": "code",
   "execution_count": 12,
   "id": "b9ceea97",
   "metadata": {},
   "outputs": [
    {
     "data": {
      "text/plain": [
       "0.31818181818181823"
      ]
     },
     "execution_count": 12,
     "metadata": {},
     "output_type": "execute_result"
    }
   ],
   "source": [
    "coeff_cor_spearman(x_rank, y_rank)   # less Spearman coefficient"
   ]
  }
 ],
 "metadata": {
  "kernelspec": {
   "display_name": "Python 3",
   "language": "python",
   "name": "python3"
  },
  "language_info": {
   "codemirror_mode": {
    "name": "ipython",
    "version": 3
   },
   "file_extension": ".py",
   "mimetype": "text/x-python",
   "name": "python",
   "nbconvert_exporter": "python",
   "pygments_lexer": "ipython3",
   "version": "3.8.8"
  }
 },
 "nbformat": 4,
 "nbformat_minor": 5
}
