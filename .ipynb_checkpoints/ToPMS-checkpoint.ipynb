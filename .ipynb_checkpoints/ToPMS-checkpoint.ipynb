{
 "cells": [
  {
   "cell_type": "code",
   "execution_count": 1,
   "id": "5bef27a9",
   "metadata": {},
   "outputs": [],
   "source": [
    "import math"
   ]
  },
  {
   "cell_type": "code",
   "execution_count": 2,
   "id": "ee519a5f",
   "metadata": {},
   "outputs": [],
   "source": [
    "def var_range(x:list,y:list): \n",
    "# x - feature, y - feature value\n",
    "    if len(x) != len(y):\n",
    "        print(\"Number of columns do not match\") # data verification for our task\n",
    "    else:\n",
    "        var_range = [round(float(i)/sum(y),2) for i in y]\n",
    "        return(var_range)"
   ]
  },
  {
   "cell_type": "code",
   "execution_count": 3,
   "id": "239189ce",
   "metadata": {},
   "outputs": [],
   "source": [
    "def arith_mean(x:list,y:list):\n",
    "# x - feature, y - feature value\n",
    "    if len(x) != len(y):\n",
    "        print(\"Number of columns do not match\") # data verification for our task\n",
    "    else:\n",
    "        s = [x[i]*y[i] for i in range(len(x))]\n",
    "        average = round(sum(s)/sum(x),10)\n",
    "        return(average)"
   ]
  },
  {
   "cell_type": "code",
   "execution_count": 4,
   "id": "ed129fb3",
   "metadata": {},
   "outputs": [],
   "source": [
    "def variation_coeff(x:list,y:list):\n",
    "# x - feature, y - feature value\n",
    "    var_coeff = round(standard_deviation(x,y)/arith_mean(x,y)*100,2)\n",
    "    return(var_coeff)"
   ]
  },
  {
   "cell_type": "code",
   "execution_count": 5,
   "id": "1a25040a",
   "metadata": {},
   "outputs": [],
   "source": [
    "def dispersion(x:list,y:list):\n",
    "# x - feature, y - feature value\n",
    "    squa = [((y[i] - arith_mean(x,y))**2)*x[i] for i in range(len(x))]\n",
    "    disp = round(sum(squa)/sum(x),10)\n",
    "    return(disp)"
   ]
  },
  {
   "cell_type": "code",
   "execution_count": 6,
   "id": "0a1050ff",
   "metadata": {},
   "outputs": [],
   "source": [
    "def standard_deviation(x:list,y:list):\n",
    "# x - feature, y - feature value\n",
    "    st_dev = round(math.sqrt(dispersion(x,y)),10)\n",
    "    return(st_dev)"
   ]
  },
  {
   "cell_type": "code",
   "execution_count": 7,
   "id": "bb1242da",
   "metadata": {},
   "outputs": [],
   "source": [
    "def median(x:list):\n",
    "    if len(x)//2 == 0:\n",
    "        med = (x[len(x)//2] + x[len(x)//2 + 1])/2\n",
    "    else:\n",
    "        med = x[len(x)//2]\n",
    "    return(med)"
   ]
  },
  {
   "cell_type": "code",
   "execution_count": 8,
   "id": "83785534",
   "metadata": {},
   "outputs": [],
   "source": [
    "def coeff_cor_pearson(x:list, y:list):\n",
    "# x, y - arrays for finding linear correlation\n",
    "    numerator = [(x[i] - sum(x)/len(x)) * (y[i] - sum(y)/len(y)) for i in range(len(x))]\n",
    "    x_denominator = [(x[i] - sum(x)/len(x))**2 for i in range(len(x))]\n",
    "    y_denominator = [(y[i] - sum(y)/len(y))**2 for i in range(len(y))]                  \n",
    "    r_pearson = sum(numerator)/(sum(x_denominator) * sum(y_denominator))**0.5\n",
    "    return(r_pearson)"
   ]
  },
  {
   "cell_type": "code",
   "execution_count": 9,
   "id": "d13e8653",
   "metadata": {},
   "outputs": [],
   "source": [
    "def coeff_cor_spearman(x:list, y:list):\n",
    "# x, y - ranks for finding linear correlation\n",
    "    n = len(x)\n",
    "    presum_coeff = 1/(n*(n**2 - 1))\n",
    "    total_list = [(x[i] - y[i])**2 for i in range(len(x))]\n",
    "    spearman_coeff = 1 - presum_coeff * 6 * sum(total_list)\n",
    "    return(spearman_coeff)"
   ]
  },
  {
   "cell_type": "code",
   "execution_count": 10,
   "id": "686d7069",
   "metadata": {},
   "outputs": [],
   "source": [
    "def suspicious(z:list):\n",
    "# q1 - 25% values, q2 - 75% values, z - our data\n",
    "    q1 = median(z[0:len(z)//2 + 1])\n",
    "    q3 = median(z[len(z)//2:len(z)])\n",
    "    RQ = q3 - q1\n",
    "    for i in z:\n",
    "        if i < q1 - 1.5 * RQ or i > q3 + 1.5 * RQ:\n",
    "            return(i)"
   ]
  }
 ],
 "metadata": {
  "kernelspec": {
   "display_name": "Python 3",
   "language": "python",
   "name": "python3"
  },
  "language_info": {
   "codemirror_mode": {
    "name": "ipython",
    "version": 3
   },
   "file_extension": ".py",
   "mimetype": "text/x-python",
   "name": "python",
   "nbconvert_exporter": "python",
   "pygments_lexer": "ipython3",
   "version": "3.8.8"
  }
 },
 "nbformat": 4,
 "nbformat_minor": 5
}
