{
 "cells": [
  {
   "cell_type": "code",
   "execution_count": 29,
   "id": "6fdc6bea",
   "metadata": {},
   "outputs": [],
   "source": [
    "# Задача 4.Найдите среднюю цену 1 м2 вторичного жилья в регионах Южного федерального округа. Рассчитайте \n",
    "# выборочное стандартное отклонение и выборочный коэффициент вариации"
   ]
  },
  {
   "cell_type": "code",
   "execution_count": 3,
   "id": "623a778b",
   "metadata": {},
   "outputs": [],
   "source": [
    "import pandas as pd\n",
    "import math\n",
    "from ipynb.fs.full.ToPMS import standard_deviation, variation_coeff\n",
    "from IPython.display import HTML, display\n",
    "import tabulate"
   ]
  },
  {
   "cell_type": "code",
   "execution_count": 4,
   "id": "29c331d2",
   "metadata": {},
   "outputs": [
    {
     "data": {
      "text/html": [
       "<table>\n",
       "<tbody>\n",
       "<tr><td>Республика Адыгея  </td><td style=\"text-align: right;\">24216</td></tr>\n",
       "<tr><td>Республика Калмыкия</td><td style=\"text-align: right;\">33432</td></tr>\n",
       "<tr><td>Краснодарский край </td><td style=\"text-align: right;\">47466</td></tr>\n",
       "<tr><td>Астраханская обл.  </td><td style=\"text-align: right;\">29852</td></tr>\n",
       "<tr><td>Волгоградская обл. </td><td style=\"text-align: right;\">31508</td></tr>\n",
       "<tr><td>Ростовская обл.    </td><td style=\"text-align: right;\">47758</td></tr>\n",
       "</tbody>\n",
       "</table>"
      ],
      "text/plain": [
       "<IPython.core.display.HTML object>"
      ]
     },
     "metadata": {},
     "output_type": "display_data"
    }
   ],
   "source": [
    "table = [[\"Республика Адыгея\", 24216],\n",
    "         [\"Республика Калмыкия\", 33432],\n",
    "         [\"Краснодарский край\", 47466],\n",
    "         [\"Астраханская обл.\", 29852],\n",
    "         [\"Волгоградская обл.\", 31508],\n",
    "         [\"Ростовская обл.\", 47758]]\n",
    "display(HTML(tabulate.tabulate(table, tablefmt='html')))"
   ]
  },
  {
   "cell_type": "code",
   "execution_count": 8,
   "id": "c06a8ff0",
   "metadata": {},
   "outputs": [
    {
     "data": {
      "text/plain": [
       "{'Республика Адыгея': 24216,\n",
       " 'Республика Калмыкия': 33432,\n",
       " 'Краснодарский край': 47466,\n",
       " 'Астраханская обл.': 29852,\n",
       " 'Волгоградская обл.': 31508,\n",
       " 'Ростовская обл.': 47758}"
      ]
     },
     "execution_count": 8,
     "metadata": {},
     "output_type": "execute_result"
    }
   ],
   "source": [
    "data = dict(table)\n",
    "data"
   ]
  },
  {
   "cell_type": "code",
   "execution_count": 9,
   "id": "0eea1770",
   "metadata": {},
   "outputs": [],
   "source": [
    "value = []\n",
    "for i in data:\n",
    "    value.append(data[i])"
   ]
  },
  {
   "cell_type": "code",
   "execution_count": 10,
   "id": "3fcfa230",
   "metadata": {},
   "outputs": [
    {
     "data": {
      "text/plain": [
       "[24216, 33432, 47466, 29852, 31508, 47758]"
      ]
     },
     "execution_count": 10,
     "metadata": {},
     "output_type": "execute_result"
    }
   ],
   "source": [
    "value"
   ]
  },
  {
   "cell_type": "code",
   "execution_count": 16,
   "id": "896d8329",
   "metadata": {},
   "outputs": [
    {
     "data": {
      "text/plain": [
       "[1, 1, 1, 1, 1, 1]"
      ]
     },
     "execution_count": 16,
     "metadata": {},
     "output_type": "execute_result"
    }
   ],
   "source": [
    "number_of_values = [1] * len(value)\n",
    "number_of_values"
   ]
  },
  {
   "cell_type": "code",
   "execution_count": 17,
   "id": "b8be6305",
   "metadata": {},
   "outputs": [
    {
     "data": {
      "text/plain": [
       "8875.3591226246"
      ]
     },
     "execution_count": 17,
     "metadata": {},
     "output_type": "execute_result"
    }
   ],
   "source": [
    "standard_deviation(number_of_values,value)"
   ]
  },
  {
   "cell_type": "code",
   "execution_count": 22,
   "id": "45970bce",
   "metadata": {},
   "outputs": [
    {
     "data": {
      "text/plain": [
       "24.86"
      ]
     },
     "execution_count": 22,
     "metadata": {},
     "output_type": "execute_result"
    }
   ],
   "source": [
    "variation_coeff(number_of_values,value)"
   ]
  }
 ],
 "metadata": {
  "kernelspec": {
   "display_name": "Python 3",
   "language": "python",
   "name": "python3"
  },
  "language_info": {
   "codemirror_mode": {
    "name": "ipython",
    "version": 3
   },
   "file_extension": ".py",
   "mimetype": "text/x-python",
   "name": "python",
   "nbconvert_exporter": "python",
   "pygments_lexer": "ipython3",
   "version": "3.8.8"
  }
 },
 "nbformat": 4,
 "nbformat_minor": 5
}
