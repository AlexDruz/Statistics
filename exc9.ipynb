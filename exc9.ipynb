{
 "cells": [
  {
   "cell_type": "code",
   "execution_count": 1,
   "id": "48a3c53f",
   "metadata": {},
   "outputs": [],
   "source": [
    "# Задача 9. Есть ли линейна зависимость между двумя величинами? Насколько эта связь существенна?"
   ]
  },
  {
   "cell_type": "code",
   "execution_count": 3,
   "id": "190a011a",
   "metadata": {},
   "outputs": [],
   "source": [
    "import tabulate\n",
    "import matplotlib.pyplot as plt\n",
    "from IPython.display import display, HTML\n",
    "from scipy.stats import rankdata\n",
    "from ipynb.fs.full.ToPMS import coeff_cor_pearson, coeff_cor_spearman"
   ]
  },
  {
   "cell_type": "code",
   "execution_count": 4,
   "id": "3390bae9",
   "metadata": {},
   "outputs": [
    {
     "data": {
      "text/html": [
       "<table>\n",
       "<tbody>\n",
       "<tr><td style=\"text-align: right;\">220</td><td style=\"text-align: right;\">170</td><td style=\"text-align: right;\">200</td><td style=\"text-align: right;\">270</td><td style=\"text-align: right;\">240</td><td style=\"text-align: right;\">120</td></tr>\n",
       "<tr><td style=\"text-align: right;\">105</td><td style=\"text-align: right;\">140</td><td style=\"text-align: right;\">110</td><td style=\"text-align: right;\"> 90</td><td style=\"text-align: right;\"> 95</td><td style=\"text-align: right;\">160</td></tr>\n",
       "</tbody>\n",
       "</table>"
      ],
      "text/plain": [
       "<IPython.core.display.HTML object>"
      ]
     },
     "metadata": {},
     "output_type": "display_data"
    }
   ],
   "source": [
    "table = [[220, 170, 200, 270, 240, 120],\n",
    "         [105, 140, 110, 90, 95, 160]]\n",
    "display(HTML(tabulate.tabulate(table, tablefmt = 'html')))"
   ]
  },
  {
   "cell_type": "code",
   "execution_count": 5,
   "id": "d36f38d6",
   "metadata": {},
   "outputs": [],
   "source": [
    "x_values = table[0]\n",
    "y_values = table[1]"
   ]
  },
  {
   "cell_type": "code",
   "execution_count": 8,
   "id": "a7ed26bc",
   "metadata": {},
   "outputs": [
    {
     "data": {
      "text/plain": [
       "[<matplotlib.lines.Line2D at 0x7fd4906ae310>]"
      ]
     },
     "execution_count": 8,
     "metadata": {},
     "output_type": "execute_result"
    },
    {
     "data": {
      "image/png": "[encoded data removed]",
      "text/plain": [
       "<Figure size 432x288 with 1 Axes>"
      ]
     },
     "metadata": {
      "needs_background": "light"
     },
     "output_type": "display_data"
    }
   ],
   "source": [
    "plt.xlabel('Затраты на рекламу')\n",
    "plt.ylabel('Прибыль')\n",
    "plt.plot(x_values, y_values, '.')"
   ]
  },
  {
   "cell_type": "code",
   "execution_count": 7,
   "id": "c6012b69",
   "metadata": {},
   "outputs": [
    {
     "data": {
      "text/plain": [
       "-0.9755126697437208"
      ]
     },
     "execution_count": 7,
     "metadata": {},
     "output_type": "execute_result"
    }
   ],
   "source": [
    "coeff_cor_pearson(x_values, y_values)"
   ]
  },
  {
   "cell_type": "code",
   "execution_count": 10,
   "id": "cb9cdd6b",
   "metadata": {},
   "outputs": [],
   "source": [
    "x_rank = rankdata(x_values)\n",
    "y_rank = rankdata(y_values)"
   ]
  },
  {
   "cell_type": "code",
   "execution_count": 12,
   "id": "7b7ad0ea",
   "metadata": {},
   "outputs": [
    {
     "data": {
      "text/plain": [
       "-1.0"
      ]
     },
     "execution_count": 12,
     "metadata": {},
     "output_type": "execute_result"
    }
   ],
   "source": [
    "coeff_cor_spearman(x_rank, y_rank)"
   ]
  }
 ],
 "metadata": {
  "kernelspec": {
   "display_name": "Python 3",
   "language": "python",
   "name": "python3"
  },
  "language_info": {
   "codemirror_mode": {
    "name": "ipython",
    "version": 3
   },
   "file_extension": ".py",
   "mimetype": "text/x-python",
   "name": "python",
   "nbconvert_exporter": "python",
   "pygments_lexer": "ipython3",
   "version": "3.8.8"
  }
 },
 "nbformat": 4,
 "nbformat_minor": 5
}
